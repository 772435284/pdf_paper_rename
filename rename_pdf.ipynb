{
 "cells": [
  {
   "cell_type": "code",
   "execution_count": 68,
   "metadata": {},
   "outputs": [],
   "source": [
    "import spacy\n",
    "import fitz  # PyMuPDF\n",
    "import os"
   ]
  },
  {
   "cell_type": "code",
   "execution_count": 88,
   "metadata": {},
   "outputs": [],
   "source": [
    "nlp = spacy.load(\"en_core_web_sm\")\n",
    "\n",
    "def extract_text_from_first_page(pdf_path):\n",
    "    # 打开PDF文件\n",
    "    doc = fitz.open(pdf_path)\n",
    "    # 提取第一页的文本\n",
    "    first_page_text = doc[0].get_text()\n",
    "    return first_page_text\n",
    "\n",
    "def find_title_with_spacy(text):\n",
    "    # 使用spaCy处理文本\n",
    "    doc = nlp(text)\n",
    "    # 尝试获取文档中的第一个句子作为标题\n",
    "    first_sentence = next(doc.sents, None)\n",
    "    if first_sentence:\n",
    "        # 将句子转换为文本，并替换掉其中的换行符\\n为单个空格\n",
    "        title = first_sentence.text.replace('\\n', ' ')\n",
    "        # 清除Windows文件名中不兼容的字符\n",
    "        \n",
    "        return title\n",
    "    else:\n",
    "        return \"Title Not Found\""
   ]
  },
  {
   "cell_type": "code",
   "execution_count": 89,
   "metadata": {},
   "outputs": [],
   "source": [
    "pdf_path = 'papers/2201.09058.pdf'\n",
    "# 从第一页提取文本\n",
    "text = extract_text_from_first_page(pdf_path)"
   ]
  },
  {
   "cell_type": "code",
   "execution_count": 90,
   "metadata": {},
   "outputs": [
    {
     "name": "stdout",
     "output_type": "stream",
     "text": [
      "Extracted Title: DeepTrader: A Deep Reinforcement Learning Approach for Risk-Return Balanced Portfolio Management with Market Conditions Embedding Zhicheng Wang1,2, Biwei Huang3, Shikui Tu1,2, Kun Zhang3, Lei Xu1,2 1Department of Computer Science and Engineering, Shanghai Jiao Tong University 2Centre for Cognitive Machines and Computational Health (CMaCH), Shanghai Jiao Tong University 3Department of Philosophy, Carnegie Mellon University {wwwangzhch, tushikui, leixu}@sjtu.edu.cn, biweih@andrew.cmu.edu, kunz1@cmu.edu Abstract Most existing reinforcement learning (RL)-based port- folio management models do not take into account the market conditions, which limits their performance in risk-return balancing.\n"
     ]
    }
   ],
   "source": [
    "title = find_title_with_spacy(text)\n",
    "\n",
    "print(\"Extracted Title:\", title)"
   ]
  },
  {
   "cell_type": "code",
   "execution_count": 72,
   "metadata": {},
   "outputs": [
    {
     "data": {
      "text/plain": [
       "'DeepScalper: A Risk-Aware Reinforcement Learning Framework to Capture Fleeting Intraday Trading Opportunities Shuo Sun Nanyang Technological University Wanqi Xue Nanyang Technological University Rundong Wang∗ Nanyang Technological University Xu'"
      ]
     },
     "execution_count": 72,
     "metadata": {},
     "output_type": "execute_result"
    }
   ],
   "source": [
    "title"
   ]
  },
  {
   "cell_type": "code",
   "execution_count": 73,
   "metadata": {},
   "outputs": [],
   "source": [
    "def clean_title(text):\n",
    "    # 使用spaCy处理文本\n",
    "    doc = nlp(text)\n",
    "    # 初始化一个空列表来存储要排除的实体（人名和组织名）\n",
    "    exclude_entities = []\n",
    "    for ent in doc.ents:\n",
    "        # 如果实体类型是人名或组织，添加到排除列表\n",
    "        if ent.label_ in [\"PERSON\", \"ORG\"]:\n",
    "            print(ent.text)\n",
    "            exclude_entities.append(ent.text)\n",
    "    \n",
    "    # 提取的标题初始化为完整文本\n",
    "    cleaned_title = text\n",
    "    # 从标题中移除所有排除的实体\n",
    "    for entity in exclude_entities:\n",
    "        cleaned_title = cleaned_title.replace(entity, \"\")\n",
    "    for ch in ['<', '>', ':', '\"', '/', '\\\\', '|', '?', '*']:\n",
    "        cleaned_title = cleaned_title.replace(ch, '')\n",
    "    # 返回清理后的标题，这里简单地取第一句作为标题\n",
    "    return cleaned_title.split('\\n', 1)[0].strip()"
   ]
  },
  {
   "cell_type": "code",
   "execution_count": 74,
   "metadata": {},
   "outputs": [
    {
     "name": "stdout",
     "output_type": "stream",
     "text": [
      "Nanyang Technological University\n",
      "Rundong Wang∗\n",
      "Nanyang Technological University\n"
     ]
    }
   ],
   "source": [
    "title = clean_title(title)"
   ]
  },
  {
   "cell_type": "code",
   "execution_count": 75,
   "metadata": {},
   "outputs": [
    {
     "data": {
      "text/plain": [
       "'DeepScalper A Risk-Aware Reinforcement Learning Framework to Capture Fleeting Intraday Trading Opportunities Shuo Sun  Wanqi Xue    Xu'"
      ]
     },
     "execution_count": 75,
     "metadata": {},
     "output_type": "execute_result"
    }
   ],
   "source": [
    "title"
   ]
  },
  {
   "cell_type": "code",
   "execution_count": 76,
   "metadata": {},
   "outputs": [],
   "source": [
    "def rename_pdf(pdf_path, title):\n",
    "    # Sanitize title to make it a valid filename\n",
    "    \n",
    "    new_filename = title + \".pdf\"  # Truncate long titles and add .pdf extension\n",
    "    \n",
    "    # Get directory of the original PDF\n",
    "    #dir_name = os.path.dirname(pdf_path)\n",
    "    \n",
    "    # Construct new path with the same directory but new title\n",
    "    #new_path = os.path.join(dir_name, new_filename)\n",
    "    \n",
    "    # Rename file\n",
    "    os.rename(pdf_path, new_filename)\n",
    "    print(f\"File renamed to: {new_filename}\")"
   ]
  },
  {
   "cell_type": "code",
   "execution_count": 78,
   "metadata": {},
   "outputs": [
    {
     "name": "stdout",
     "output_type": "stream",
     "text": [
      "File renamed to: DeepScalper A Risk-Aware Reinforcement Learning Framework to Capture Fleeting Intraday Trading Opportunities Shuo Sun  Wanqi Xue    Xu.pdf\n"
     ]
    }
   ],
   "source": [
    "rename_pdf(pdf_path, title)"
   ]
  },
  {
   "cell_type": "code",
   "execution_count": 79,
   "metadata": {},
   "outputs": [],
   "source": [
    "from transformers import GPT2Tokenizer, GPT2LMHeadModel"
   ]
  },
  {
   "cell_type": "code",
   "execution_count": 80,
   "metadata": {},
   "outputs": [
    {
     "data": {
      "application/vnd.jupyter.widget-view+json": {
       "model_id": "725589949ff5420393d6e2441bfbbd6d",
       "version_major": 2,
       "version_minor": 0
      },
      "text/plain": [
       "tokenizer_config.json:   0%|          | 0.00/26.0 [00:00<?, ?B/s]"
      ]
     },
     "metadata": {},
     "output_type": "display_data"
    },
    {
     "name": "stderr",
     "output_type": "stream",
     "text": [
      "C:\\Users\\GTJA\\AppData\\Roaming\\Python\\Python39\\site-packages\\huggingface_hub\\file_download.py:149: UserWarning: `huggingface_hub` cache-system uses symlinks by default to efficiently store duplicated files but your machine does not support them in C:\\Users\\GTJA\\.cache\\huggingface\\hub\\models--gpt2. Caching files will still work but in a degraded version that might require more space on your disk. This warning can be disabled by setting the `HF_HUB_DISABLE_SYMLINKS_WARNING` environment variable. For more details, see https://huggingface.co/docs/huggingface_hub/how-to-cache#limitations.\n",
      "To support symlinks on Windows, you either need to activate Developer Mode or to run Python as an administrator. In order to see activate developer mode, see this article: https://docs.microsoft.com/en-us/windows/apps/get-started/enable-your-device-for-development\n",
      "  warnings.warn(message)\n"
     ]
    },
    {
     "data": {
      "application/vnd.jupyter.widget-view+json": {
       "model_id": "9517c833b83f4f1aa9257d90e11ecd8e",
       "version_major": 2,
       "version_minor": 0
      },
      "text/plain": [
       "vocab.json:   0%|          | 0.00/1.04M [00:00<?, ?B/s]"
      ]
     },
     "metadata": {},
     "output_type": "display_data"
    },
    {
     "data": {
      "application/vnd.jupyter.widget-view+json": {
       "model_id": "95d8e31c1e4c438dae5b091eddeb56e9",
       "version_major": 2,
       "version_minor": 0
      },
      "text/plain": [
       "merges.txt:   0%|          | 0.00/456k [00:00<?, ?B/s]"
      ]
     },
     "metadata": {},
     "output_type": "display_data"
    },
    {
     "data": {
      "application/vnd.jupyter.widget-view+json": {
       "model_id": "a83e71de07a74e72a33a51d65dcae932",
       "version_major": 2,
       "version_minor": 0
      },
      "text/plain": [
       "tokenizer.json:   0%|          | 0.00/1.36M [00:00<?, ?B/s]"
      ]
     },
     "metadata": {},
     "output_type": "display_data"
    },
    {
     "data": {
      "application/vnd.jupyter.widget-view+json": {
       "model_id": "965c483461d04cd2b970de42c3f80a0b",
       "version_major": 2,
       "version_minor": 0
      },
      "text/plain": [
       "config.json:   0%|          | 0.00/665 [00:00<?, ?B/s]"
      ]
     },
     "metadata": {},
     "output_type": "display_data"
    },
    {
     "data": {
      "application/vnd.jupyter.widget-view+json": {
       "model_id": "575091aa4cab4a789e902db30d37b007",
       "version_major": 2,
       "version_minor": 0
      },
      "text/plain": [
       "model.safetensors:   0%|          | 0.00/548M [00:00<?, ?B/s]"
      ]
     },
     "metadata": {},
     "output_type": "display_data"
    },
    {
     "data": {
      "application/vnd.jupyter.widget-view+json": {
       "model_id": "bc0b2bece8c14d819788f9be69d504da",
       "version_major": 2,
       "version_minor": 0
      },
      "text/plain": [
       "generation_config.json:   0%|          | 0.00/124 [00:00<?, ?B/s]"
      ]
     },
     "metadata": {},
     "output_type": "display_data"
    }
   ],
   "source": [
    "tokenizer = GPT2Tokenizer.from_pretrained('gpt2')\n",
    "model = GPT2LMHeadModel.from_pretrained('gpt2')"
   ]
  },
  {
   "cell_type": "code",
   "execution_count": 91,
   "metadata": {},
   "outputs": [],
   "source": [
    "prompt_text = \"Extract the title of this paper:\" + title"
   ]
  },
  {
   "cell_type": "code",
   "execution_count": 97,
   "metadata": {},
   "outputs": [
    {
     "name": "stderr",
     "output_type": "stream",
     "text": [
      "The attention mask and the pad token id were not set. As a consequence, you may observe unexpected behavior. Please pass your input's `attention_mask` to obtain reliable results.\n",
      "Setting `pad_token_id` to `eos_token_id`:50256 for open-end generation.\n"
     ]
    },
    {
     "name": "stdout",
     "output_type": "stream",
     "text": [
      "Extract the title of this paper:DeepTrader: A Deep Reinforcement Learning Approach for Risk-Return Balanced Portfolio Management with Market Conditions Embedding Zhicheng Wang1,2, Biwei Huang3, Shikui Tu1,2, Kun Zhang3, Lei Xu1,2 1Department of Computer Science and Engineering, Shanghai Jiao Tong University 2Centre for Cognitive Machines and Computational Health (CMaCH), Shanghai Jiao Tong University 3Department of Philosophy, Carnegie Mellon University {wwwangzhch, tushikui, leixu}@sjtu.edu.cn, biweih@andrew.cmu.edu, kunz1@cmu.edu Abstract Most existing reinforcement learning (RL)-based port- folio management models do not take into account the market conditions, which limits their performance in risk-return balancing. However, the current model is based on\n"
     ]
    }
   ],
   "source": [
    "input_ids = tokenizer.encode(prompt_text, return_tensors='pt')\n",
    "\n",
    "# 生成文本\n",
    "output_sequences = model.generate(\n",
    "    input_ids=input_ids,\n",
    "    max_length=190,  # 设置生成文本的最大长度\n",
    "    temperature=1.0,  # 控制文本生成的随机性\n",
    "    num_return_sequences=1,  # 生成文本的数量\n",
    ")\n",
    "\n",
    "# 解码生成的文本\n",
    "generated_text = tokenizer.decode(output_sequences[0], skip_special_tokens=True)\n",
    "print(generated_text)"
   ]
  },
  {
   "cell_type": "code",
   "execution_count": 98,
   "metadata": {},
   "outputs": [
    {
     "name": "stdout",
     "output_type": "stream",
     "text": [
      "Generated Title: Extract the title of this paper:DeepTrader: A Deep Reinforcement Learning Approach for Risk-Return Balanced Portfolio Management with Market Conditions Embedding Zhicheng Wang1,2, Biwei Huang3, Shikui Tu1,2, Kun Zhang3, Lei Xu1,2 1Department of Computer Science and Engineering, Shanghai Jiao Tong University 2Centre for Cognitive Machines and Computational Health (CMaCH), Shanghai Jiao Tong University 3Department of Philosophy, Carnegie Mellon University {wwwangzhch, tushikui, leixu}@sjtu\n"
     ]
    }
   ],
   "source": [
    "# 假设生成的文本中标题在最前面，可以通过一些简单的字符串操作提取出来\n",
    "# 这里只是一个示例，具体方法可能需要根据实际情况调整\n",
    "title = generated_text.split('.')[0]\n",
    "print(\"Generated Title:\", title)"
   ]
  },
  {
   "cell_type": "code",
   "execution_count": null,
   "metadata": {},
   "outputs": [],
   "source": []
  }
 ],
 "metadata": {
  "kernelspec": {
   "display_name": "base",
   "language": "python",
   "name": "python3"
  },
  "language_info": {
   "codemirror_mode": {
    "name": "ipython",
    "version": 3
   },
   "file_extension": ".py",
   "mimetype": "text/x-python",
   "name": "python",
   "nbconvert_exporter": "python",
   "pygments_lexer": "ipython3",
   "version": "3.9.13"
  }
 },
 "nbformat": 4,
 "nbformat_minor": 2
}
